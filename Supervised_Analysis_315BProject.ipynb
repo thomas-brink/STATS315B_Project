{
  "nbformat": 4,
  "nbformat_minor": 0,
  "metadata": {
    "colab": {
      "name": "Untitled0.ipynb",
      "provenance": [],
      "collapsed_sections": []
    },
    "kernelspec": {
      "name": "python3",
      "display_name": "Python 3"
    },
    "language_info": {
      "name": "python"
    }
  },
  "cells": [
    {
      "cell_type": "code",
      "execution_count": 2,
      "metadata": {
        "id": "6k4FryvWiUEk"
      },
      "outputs": [],
      "source": [
        "import numpy as np\n",
        "import pandas as pd\n",
        "import matplotlib.pyplot as plt\n",
        "import matplotlib.cm as cm\n",
        "\n",
        "from sklearn.cluster import MiniBatchKMeans, KMeans, SpectralCoclustering, SpectralClustering\n",
        "from sklearn.decomposition import PCA, TruncatedSVD\n",
        "from sklearn.manifold import TSNE\n",
        "from sklearn.mixture import GaussianMixture\n",
        "from sklearn.pipeline import make_pipeline\n",
        "from sklearn.preprocessing import normalize as Norm\n",
        "from sklearn.metrics import silhouette_score, pairwise_distances, davies_bouldin_score, f1_score\n",
        "from sklearn.utils.extmath import randomized_svd\n",
        "from sklearn.feature_extraction.text import TfidfVectorizer\n",
        "from sklearn.metrics.cluster import adjusted_rand_score\n",
        "\n",
        "from scipy.sparse.linalg import svds\n",
        "from scipy.sparse import csr_matrix,  dok_matrix, diags\n",
        "from scipy.linalg import sqrtm, pinv"
      ]
    },
    {
      "cell_type": "code",
      "source": [
        "'''\n",
        "BiPartFit: Given data and number of clusters, runs Kmeans on reduced dimensions of the features (terms) and\n",
        "returns labels for what cluster each row is in, and also the centroid points, (used for finding top documents)\n",
        "  Params:\n",
        "    1. Data, term-document matrix in csr format\n",
        "    2. k, cluster size\n",
        "    3. returnCost, do we want to know inertia score\n",
        "    4. normalize, do we want to normalize the input to the KMeans algo\n",
        "    \n",
        "  Returns:\n",
        "    1. Labels, vector of documents with cluster # that the document has been assigned to\n",
        "    2. Centroid Points\n",
        "    3. VT, how you can project the original document data onto the dim reduction \n",
        "    4. Heterogeneity for kMeans\n",
        "'''\n",
        "def BiPartFit(data, k, n_init_ = 50, returnCost = False, normalize = False, verbose = False):\n",
        "  #We could normalize the data from term-frequencies to just whether words occur in a document or not, possibly explore\n",
        "\n",
        "\n",
        "  #Form D1, An, D2\n",
        "  numWords = data.shape[0]\n",
        "  numDocs = data.shape[1]\n",
        "  D1, An, D2 = FormComponents(data)\n",
        "\n",
        "  num_components = int(np.ceil(np.log2(k)))\n",
        "  print(f\"Dimension of BiPartFit: {num_components}\")\n",
        "\n",
        "  #Compute the (2, l+1) right and left singular vectors\n",
        "  U, S, VT = randomized_svd(An, n_components = num_components+1, random_state = None)\n",
        "\n",
        "  #Drop the first right and left singular vectors\n",
        "  U = U[:, 1:]\n",
        "  VT = VT[1:,:]\n",
        "\n",
        "  #Form Z\n",
        "  Z = FormZ(D1, D2, U, VT)\n",
        "\n",
        "\n",
        "  #Run Kmeans on the l-dimensional data to obtain K partitioning. \n",
        "  #Documents will be the rows of the Z from row (m+1) to the end. We can then use this mapping to get clusters of documents\n",
        "  if returnCost:\n",
        "    WordDocClusters, cluster_centers, _, kmeans = KMeansFit(Z, k, n_init_ = n_init_, returnCost = returnCost, normalize = normalize, passObject = True)\n",
        "  else:\n",
        "    WordDocClusters, cluster_centers = KMeansFit(Z, k, n_init_ = n_init_, returnCost = returnCost, normalize = normalize)\n",
        "\n",
        "  DocClusters = WordDocClusters[numWords:]\n",
        "  WordClusters = WordDocClusters[:numWords]\n",
        "  if returnCost:\n",
        "    cost = -1*kmeans.score(Z[numWords:])\n",
        "\n",
        "\n",
        "  if verbose:\n",
        "    TopDocs(Z[numWords:], DocClusters, cluster_centers, k, 5)\n",
        "\n",
        "\n",
        "  if returnCost:\n",
        "    return DocClusters, cluster_centers, VT, cost\n",
        "  else:\n",
        "    return DocClusters, WordClusters, cluster_centers, VT\n",
        "\n",
        "\n",
        "def FormComponents(data):\n",
        "  D1 = diags(np.ravel((np.power(data.sum(axis = 1), -1/2))), format = \"csr\")\n",
        "  D2 = diags(np.ravel((np.power(data.sum(axis = 0), -1/2))), format = \"csr\")\n",
        "  An = D1 @ data @ D2\n",
        "  return D1, An, D2\n",
        "\n",
        "def FormZ(D1, D2, U, VT):\n",
        "  Z1 = D1@U\n",
        "  Z2  = D2@(VT.transpose())\n",
        "  Z = np.vstack((Z1, Z2))\n",
        "  return Z\n"
      ],
      "metadata": {
        "id": "DkSiu7qyiUlM"
      },
      "execution_count": 3,
      "outputs": []
    },
    {
      "cell_type": "code",
      "source": [
        "'''\n",
        "KMeansFit: Given data and number of clusters, runs Kmeans and returns labels for what cluster each row is in,\n",
        "          and also the centroid points, (used for finding top documents)\n",
        "  Params:\n",
        "    1. Data, term-document matrix in csr format\n",
        "    2. k, cluster size\n",
        "    3. n_init_, number of different seeds we want to run our algo on\n",
        "    \n",
        "  Returns:\n",
        "    1. Labels, vector of documents with cluster # that the document has been assigned to\n",
        "    2. Centroid Points\n",
        "'''\n",
        "def KMeansFit(data, k, n_init_ = 25, returnCost = False, normalize = True, passObject = False):\n",
        "  #First renormalize all features to unit length so that we can use cosine similarity as the distance metric\n",
        "  if normalize:\n",
        "    data = Norm(data)\n",
        "\n",
        "  #Now run the algorithm multiple times with different seeds, only keeping the run with the lowest heterogeneity\n",
        "  kmeans = KMeans(n_clusters = k, init = \"k-means++\", n_init = n_init_).fit(data)\n",
        "  final_cluster_assignment = kmeans.labels_\n",
        "  cluster_centers = kmeans.cluster_centers_\n",
        "  final_heterogeneity = kmeans.inertia_\n",
        "\n",
        "  if returnCost and passObject:\n",
        "    return final_cluster_assignment, cluster_centers, final_heterogeneity, kmeans\n",
        "  elif returnCost:\n",
        "    return final_cluster_assignment, cluster_centers, final_heterogeneity\n",
        "  else:\n",
        "    return final_cluster_assignment, cluster_centers\n"
      ],
      "metadata": {
        "id": "jBLH7tbKFHTb"
      },
      "execution_count": 4,
      "outputs": []
    },
    {
      "cell_type": "code",
      "source": [
        "'''\n",
        "GMMFit: Given data and number of clusters, runs GMM and returns labels for what cluster each row is in,\n",
        "          and also the centroid points, (used for finding top documents)\n",
        "  Params:\n",
        "    1. Data, term-document matrix in csr format\n",
        "    2. k, cluster size\n",
        "    3. n_init_, number of different seeds we want to run our algo on\n",
        "    \n",
        "  Returns:\n",
        "    1. Labels, vector of documents with cluster # that the document has been assigned to\n",
        "    2. Centroid Points\n",
        "'''\n",
        "def GMMFit(data, k, n_init_ = 10, returnCost = False, normalize = True, passObject = False):\n",
        "  #First renormalize all features to unit length so that we can use cosine similarity as the distance metric\n",
        "  if normalize:\n",
        "    data = Norm(data)\n",
        "\n",
        "  #Now run the algorithm multiple times with different seeds, only keeping the run with the lowest heterogeneity\n",
        "  gmmMod = GaussianMixture(n_components = k, covariance_type = 'diag', n_init = n_init_)\n",
        "  final_cluster_assignment = gmmMod.fit_predict(data)\n",
        "  cluster_centers = gmmMod.means_\n",
        "  final_heterogeneity = gmmMod.bic(data)\n",
        "\n",
        "  if returnCost and passObject:\n",
        "    return final_cluster_assignment, cluster_centers, final_heterogeneity, kmeans\n",
        "  elif returnCost:\n",
        "    return final_cluster_assignment, cluster_centers, final_heterogeneity\n",
        "  else:\n",
        "    return final_cluster_assignment, cluster_centers"
      ],
      "metadata": {
        "id": "pZrwxXlZGwCU"
      },
      "execution_count": 3,
      "outputs": []
    },
    {
      "cell_type": "code",
      "source": [
        "'''\n",
        "SVDkMeansFit: Given data and number of clusters, runs Kmeans on reduced dimensions of the features (terms) and\n",
        "returns labels for what cluster each row is in, and also the centroid points, (used for finding top documents)\n",
        "  Params:\n",
        "    1. Data, term-document matrix in csr format\n",
        "    2. k, cluster size\n",
        "    3. dimensions, number of singular vectors we want to compute\n",
        "    4. n_init_, number of different seeds we want to run our algo on\n",
        "    \n",
        "  Returns:\n",
        "    1. Labels, vector of documents with cluster # that the document has been assigned to\n",
        "    2. Centroid Points\n",
        "    3. object for projecting data points into embedded space\n",
        "    4. Heterogeneity for kMeans \n",
        "'''\n",
        "def PCAkMeansFit(data, k, dimensions = 20, n_init_ = 25, returnCost = False, normalize = False):\n",
        "  svd = TruncatedSVD(n_components = dimensions)\n",
        "  transformedData = svd.fit_transform(data)\n",
        "  labels, cluster_centers, cost = KMeansFit(transformedData, k, n_init_, returnCost = returnCost, normalize = normalize)\n",
        "  if returnCost:\n",
        "    return labels, cluster_centers, svd, cost\n",
        "  else:\n",
        "    return labels, cluster_centers, svd\n"
      ],
      "metadata": {
        "id": "mMk3xFqtFMIN"
      },
      "execution_count": 5,
      "outputs": []
    },
    {
      "cell_type": "code",
      "source": [
        "\"\"\"\n",
        "  Returns: vector corresponding to which basis had smallest projection distance\n",
        "  Assumption: Bases is a list of matrices\n",
        "\n",
        "  I might also want to keep track of the objective function descent\n",
        "\"\"\"\n",
        "def clustAssign(data, Bases):\n",
        "  Distances = np.ndarray((data.shape[0], len(Bases)), dtype = float)\n",
        "  for idx, U in enumerate(Bases):\n",
        "    projection = data @ U\n",
        "    proj_dist = np.linalg.norm(projection, axis = 1)\n",
        "    Distances[:, idx] = np.ravel(proj_dist)\n",
        "  closest_cluster = np.argmin(Distances, axis = 1)\n",
        "  return closest_cluster\n",
        "\n",
        "\n",
        "'''\n",
        "  Returns a list (size subspaces) of bases given dimensions of data and dimensions of each individual basis element\n",
        "'''\n",
        "def drawRandomBases(ambientDim, basisDim, subspaces):\n",
        "  subspaceList = list()\n",
        "  for i in range(subspaces):\n",
        "    points = np.random.normal(size = ambientDim*basisDim)\n",
        "    X = np.reshape(points, (ambientDim, basisDim))\n",
        "    U = X @ pinv((sqrtm(X.T @ X)))\n",
        "    subspaceList.append(U)\n",
        "  return subspaceList\n",
        "\n",
        "\n",
        "\n",
        "\n",
        "'''\n",
        "#  Returns a list (size subspaces) of bases given\n",
        "'''\n",
        "def drawSVDBases(data, clust_assignments, basisDim, subspaces):\n",
        "  subspaceList = list()\n",
        "  for i in range(subspaces):\n",
        "    cluster = data[clust_assignments == i]\n",
        "    U, _, VT = randomized_svd(cluster, n_components = basisDim, random_state = None)\n",
        "    subspaceList.append(VT.T)\n",
        "\n",
        "  return subspaceList\n",
        "\n",
        "\n",
        "\n",
        "def affinityMatrix(cluster_assignments):\n",
        "  distances = pairwise_distances(cluster_assignments, metric = \"hamming\")\n",
        "  return 1 - distances\n",
        "\n",
        "def checkBasis(data, Bases, subspaces):\n",
        "  if Bases is None:\n",
        "    return False\n",
        "  clusters = clustAssign(data, Bases)\n",
        "  for i in range(subspaces):\n",
        "    count = data[clusters ==i].shape[0]\n",
        "    if data[clusters == i].shape[0] < 5:\n",
        "      return False\n",
        "  return True\n",
        "\n",
        "\n",
        "\n",
        "\n",
        "def EKSS(data, subspaces, dimension, K, B, T, q = 0):\n",
        "  #Create an array that holds cluster assignments for each of our runs\n",
        "  clust_assignments = np.ndarray((data.shape[0], B))\n",
        "\n",
        "  #Fill Array\n",
        "  for b in range(B):\n",
        "    Bases = drawRandomBases(data.shape[1], dimension, subspaces)\n",
        "\n",
        "    bClusters = clustAssign(data, Bases)\n",
        "    for t in range(T):\n",
        "      Bases = drawSVDBases(data, bClusters, dimension, subspaces)\n",
        "      bClusters = clustAssign(data, Bases)\n",
        "\n",
        "    if (b % int(B/10) == 0): \n",
        "      print(f\"Completed {b} weak learners out of {B}\")\n",
        "    clust_assignments[:, b] = np.ravel(bClusters)\n",
        "  \n",
        "\n",
        "  #Create affinity matrix\n",
        "  print(\"Creating Affinity Matrix\")\n",
        "  A = affinityMatrix(clust_assignments)\n",
        "  print(\"Running Spectral Clustering\")\n",
        "\n",
        "  #Now run spectral clustering on this affinity matrix (assing_labels is hyperparameter, look at docs)\n",
        "  clustering = SpectralClustering(n_clusters = K, assign_labels = 'kmeans', affinity = 'precomputed').fit(A)\n",
        "  FinalClusters = clustering.labels_\n",
        "\n",
        "\n",
        "  return FinalClusters"
      ],
      "metadata": {
        "id": "Yj5vhvYNiUnT"
      },
      "execution_count": 6,
      "outputs": []
    },
    {
      "cell_type": "markdown",
      "source": [
        "#Import and Clean Classic3 Dataset"
      ],
      "metadata": {
        "id": "QS4oNTPoiqrR"
      }
    },
    {
      "cell_type": "code",
      "source": [
        "#Now, go through wiki file and create dict so that we can convert to dataframe\n",
        "#Or, equivalently a sparse matrix\n",
        "data = pd.read_csv(\"train.csv\")"
      ],
      "metadata": {
        "id": "6eBshABhiUpP"
      },
      "execution_count": 4,
      "outputs": []
    },
    {
      "cell_type": "code",
      "source": [
        "SIZE = 10000\n",
        "np.random.seed(10)\n",
        "idx = np.random.choice(data.shape[0], SIZE)\n",
        "TrueLabels = (data.iloc[idx,0]).to_numpy()\n",
        "TrueLabels = TrueLabels - 1"
      ],
      "metadata": {
        "id": "65INeQHEQq2w"
      },
      "execution_count": 5,
      "outputs": []
    },
    {
      "cell_type": "code",
      "source": [
        "vectorizer = TfidfVectorizer()\n",
        "TFIDFData = vectorizer.fit_transform(data.iloc[idx,2])"
      ],
      "metadata": {
        "id": "r_xbzeWXPyu7"
      },
      "execution_count": 6,
      "outputs": []
    },
    {
      "cell_type": "code",
      "source": [
        "print(TrueLabels.shape)\n",
        "print(100*(1-csr_matrix.count_nonzero(TFIDFData)/(TFIDFData.shape[0]*TFIDFData.shape[1])))"
      ],
      "metadata": {
        "colab": {
          "base_uri": "https://localhost:8080/"
        },
        "id": "inqwxyAqPywr",
        "outputId": "edc1e9e7-0dde-4bc9-eb3f-23c00a1cb6fb"
      },
      "execution_count": 7,
      "outputs": [
        {
          "output_type": "stream",
          "name": "stdout",
          "text": [
            "(10000,)\n",
            "99.87552487428161\n"
          ]
        }
      ]
    },
    {
      "cell_type": "code",
      "source": [
        "print(np.bincount(TrueLabels))"
      ],
      "metadata": {
        "id": "k6d8w4U8CYzI",
        "outputId": "5b64e339-b04b-4da8-f0e8-893b1cbc2809",
        "colab": {
          "base_uri": "https://localhost:8080/"
        }
      },
      "execution_count": 8,
      "outputs": [
        {
          "output_type": "stream",
          "name": "stdout",
          "text": [
            "[2477 2490 2560 2473]\n"
          ]
        }
      ]
    },
    {
      "cell_type": "code",
      "source": [
        "TFIDFData.shape"
      ],
      "metadata": {
        "id": "PltyznhOBkup",
        "outputId": "8da1270e-a372-46fd-9b66-408104191e8f",
        "colab": {
          "base_uri": "https://localhost:8080/"
        }
      },
      "execution_count": 9,
      "outputs": [
        {
          "output_type": "execute_result",
          "data": {
            "text/plain": [
              "(10000, 22272)"
            ]
          },
          "metadata": {},
          "execution_count": 9
        }
      ]
    },
    {
      "cell_type": "code",
      "source": [
        "svd = TruncatedSVD(n_components = 500)\n",
        "svd.fit(TFIDFData)\n",
        "plt.plot(svd.singular_values_, label = \"Singular Value Magnitudes\", marker = \"x\")\n",
        "fig = plt.gcf()\n",
        "fig.set_size_inches((6,8))\n",
        "fig.set_dpi(120)"
      ],
      "metadata": {
        "id": "9kn6B2lmDUSd",
        "outputId": "ded29cd3-893b-4d82-c1fe-61b0b62788a9",
        "colab": {
          "base_uri": "https://localhost:8080/",
          "height": 795
        }
      },
      "execution_count": 20,
      "outputs": [
        {
          "output_type": "display_data",
          "data": {
            "text/plain": [
              "<Figure size 720x960 with 1 Axes>"
            ],
            "image/png": "[encoded data removed]"
          },
          "metadata": {
            "needs_background": "light"
          }
        }
      ]
    },
    {
      "cell_type": "markdown",
      "source": [
        "#Find Cluster Labels with EKSS, BP, KM, SVD, etc...\n"
      ],
      "metadata": {
        "id": "ScxUMdVPiszI"
      }
    },
    {
      "cell_type": "code",
      "source": [
        "subspaces = 4\n",
        "dimension = 4\n",
        "K = 4\n",
        "B = 1000\n",
        "T = 3\n",
        "\n",
        "labels = EKSS(TFIDFData, subspaces, dimension, K, B, T)"
      ],
      "metadata": {
        "colab": {
          "base_uri": "https://localhost:8080/"
        },
        "id": "rYMK71X1iUvP",
        "outputId": "2db760c3-44d3-4e35-f178-7911c6aef08e"
      },
      "execution_count": null,
      "outputs": [
        {
          "output_type": "stream",
          "name": "stdout",
          "text": [
            "Completed 0 weak learners out of 1000\n",
            "Completed 100 weak learners out of 1000\n",
            "Completed 200 weak learners out of 1000\n",
            "Completed 300 weak learners out of 1000\n",
            "Completed 400 weak learners out of 1000\n",
            "Completed 500 weak learners out of 1000\n",
            "Completed 600 weak learners out of 1000\n"
          ]
        }
      ]
    },
    {
      "cell_type": "code",
      "source": [
        "clustering = SpectralClustering(n_clusters=2,assign_labels='discretize',random_state=0).fit(TFIDFData)\n",
        "BPlabels = clustering.labels_\n",
        "#BPlabels, _, _, cost = BiPartFit(TFIDFData.transpose(), 4, n_init_ = 50, returnCost = True)\n",
        "KMlabels, _, cost = KMeansFit(TFIDFData, 4, returnCost = True)\n",
        "SVDlabels, _, _, cost = PCAkMeansFit(TFIDFData, 4, dimensions = 250, returnCost = True, normalize = False)"
      ],
      "metadata": {
        "id": "FugpSjNmiUxH"
      },
      "execution_count": null,
      "outputs": []
    },
    {
      "cell_type": "code",
      "source": [
        "GMMlabels, _, cost = GMMFit(TFIDFData.toarray(), 4, returnCost = True)"
      ],
      "metadata": {
        "id": "QcG2TQfGiUzK"
      },
      "execution_count": 10,
      "outputs": []
    },
    {
      "cell_type": "markdown",
      "source": [
        "#Calculate aRI, and Percentage Error"
      ],
      "metadata": {
        "id": "62SzB_ZBixpe"
      }
    },
    {
      "cell_type": "code",
      "source": [
        "def CalcScore(pred_labels, test_labels, num_classes):\n",
        "  ErrorRate = 1\n",
        "  for i in range(num_classes):\n",
        "    temp_pred_labels = (pred_labels + i) % (num_classes)\n",
        "    ErrorRate = min((np.sum(temp_pred_labels != test_labels))/len(test_labels), ErrorRate)\n",
        "  return ErrorRate\n"
      ],
      "metadata": {
        "id": "EQCZAZjZiU1D"
      },
      "execution_count": 11,
      "outputs": []
    },
    {
      "cell_type": "code",
      "source": [
        "def CalcF1Score(pred_labels, test_labels, num_classes):\n",
        "  F1Score = 0\n",
        "  for i in range(num_classes):\n",
        "    temp_pred_labels = (pred_labels + i) % (num_classes)\n",
        "    F1Score = f1_score(test_labels, temp_pred_labels, average = 'macro')\n",
        "  return F1Score"
      ],
      "metadata": {
        "id": "YuaieBpJHC1E"
      },
      "execution_count": 12,
      "outputs": []
    },
    {
      "cell_type": "code",
      "source": [
        "numclasses = 4\n",
        "EKSSerror = CalcScore(labels, TrueLabels, numclasses)\n",
        "KMerror = CalcScore(KMlabels, TrueLabels, numclasses)\n",
        "BPerror = CalcScore(BPlabels, TrueLabels, numclasses)\n",
        "SVDerror = CalcScore(SVDlabels, TrueLabels, numclasses)\n",
        "print(f\"EKSS error rate: {EKSSerror}\")\n",
        "print(f\"KM error rate: {KMerror}\")\n",
        "print(f\"BP error rate: {BPerror}\")\n",
        "print(f\"SVD error rate: {SVDerror}\")\n",
        "\n",
        "numclasses = 4\n",
        "EKSSF1 = CalcF1Score(labels, TrueLabels, numclasses)\n",
        "KMF1= CalcF1Score(KMlabels, TrueLabels, numclasses)\n",
        "BPF1 = CalcF1Score(BPlabels, TrueLabels, numclasses)\n",
        "SVDF1 = CalcF1Score(SVDlabels, TrueLabels, numclasses)\n",
        "print(f\"EKSS F1: {EKSSF1}\")\n",
        "print(f\"KM F1: {KMF1}\")\n",
        "print(f\"BP F1: {BPF1}\")\n",
        "print(f\"SVD F1: {SVDF1}\")"
      ],
      "metadata": {
        "id": "X7-k4-BAHDBW"
      },
      "execution_count": null,
      "outputs": []
    },
    {
      "cell_type": "code",
      "source": [
        "numclasses = 4\n",
        "GMMerror = CalcScore(GMMlabels, TrueLabels, numclasses)\n",
        "print(f\"GMM error rate: {GMMerror}\")\n",
        "\n",
        "GMMF1 = CalcF1Score(GMMlabels, TrueLabels, numclasses)\n",
        "print(f\"GMM F1: {GMMF1}\")\n",
        "\n",
        "print(f\"GMM adjusted Rand index: {adjusted_rand_score(GMMlabels, TrueLabels)}\")"
      ],
      "metadata": {
        "id": "JPo70ZlpH9Ij",
        "outputId": "01f53d9e-97e0-4f10-a11c-73122ed3866b",
        "colab": {
          "base_uri": "https://localhost:8080/"
        }
      },
      "execution_count": 13,
      "outputs": [
        {
          "output_type": "stream",
          "name": "stdout",
          "text": [
            "GMM error rate: 0.6302\n",
            "GMM F1: 0.1964596874924796\n",
            "GMM adjusted Rand index: 0.33549357006255937\n"
          ]
        }
      ]
    },
    {
      "cell_type": "code",
      "source": [
        "print(f\"EKSS adjsuted Rand index: {adjusted_rand_score(labels, TrueLabels)}\")\n",
        "print(f\"KM adjsuted Rand index: {adjusted_rand_score(KMlabels, TrueLabels)}\")\n",
        "print(f\"BP adjsuted Rand index: {adjusted_rand_score(BPlabels, TrueLabels)}\")\n",
        "print(f\"SVD adjsuted Rand index: {adjusted_rand_score(SVDlabels, TrueLabels)}\")"
      ],
      "metadata": {
        "id": "IS8wUsINRoIJ"
      },
      "execution_count": null,
      "outputs": []
    }
  ]
}